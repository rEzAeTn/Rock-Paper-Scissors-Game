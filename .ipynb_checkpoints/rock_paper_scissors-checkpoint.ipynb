{
 "cells": [
  {
   "cell_type": "markdown",
   "id": "efb14956-79fe-49c4-b99e-43e4ea6d6e8f",
   "metadata": {},
   "source": [
    "- get Player choice\n",
    "- get Computer choice\n",
    "- get winner\n",
    "- print winner\n",
    "- Quit \\ Game Again"
   ]
  },
  {
   "cell_type": "code",
   "execution_count": 78,
   "id": "3c1bd9f8-abab-4a33-b68d-2b540cbe8d6e",
   "metadata": {
    "tags": []
   },
   "outputs": [],
   "source": [
    "import random\n",
    "\n",
    "\n",
    "class RockPaperScissors:\n",
    "    def __init__(self, name):\n",
    "        self.choices = ['Rock', 'Paper', 'Scissors']\n",
    "        self.player_name = name\n",
    "    \n",
    "    def get_player_choice(self):\n",
    "        player_choice = input(f'Your choice ({self.choices}): ').title()\n",
    "        if player_choice in self.choices:\n",
    "            return player_choice\n",
    "\n",
    "        print(f'Invalid input, must choice from ({self.choices}).')\n",
    "        return self.get_player_choice()\n",
    "        \n",
    "    def get_computer_choice(self):\n",
    "        computer_choice = random.choice(self.choices)\n",
    "        return computer_choice\n",
    "        \n",
    "    def decide_winner(self, player_choice, computer_choice):\n",
    "        if player_choice == computer_choice:\n",
    "            return 'Tie!'\n",
    "        \n",
    "        # [(player_choice, computer_choice), player_choice, computer_choice), player_choice, computer_choice)]\n",
    "        win_combinations = [('Rock', 'Scissors'), ('Paper', 'Rock'), ('Scissors', 'Paper')]\n",
    "        for win_combine in win_combinations:\n",
    "            if (player_choice == win_combine[0]) & (computer_choice == win_combine[1]):\n",
    "                return f'{self.player_name} Won!'\n",
    "        \n",
    "        return 'Oh No, Computer Won!'\n",
    "            \n",
    "    def play(self):\n",
    "        player_choice = self.get_player_choice()\n",
    "        computer_choice = self.get_computer_choice()\n",
    "        print(f'{self.player_name} choice --> {player_choice} * {computer_choice} <-- Computer choice')\n",
    "        print(self.decide_winner(player_choice, computer_choice))"
   ]
  },
  {
   "cell_type": "code",
   "execution_count": null,
   "id": "e832ea7e-4973-4059-b71c-c24cc6d68343",
   "metadata": {
    "tags": []
   },
   "outputs": [
    {
     "name": "stdin",
     "output_type": "stream",
     "text": [
      "Your choice (['Rock', 'Paper', 'Scissors']):  rock\n"
     ]
    },
    {
     "name": "stdout",
     "output_type": "stream",
     "text": [
      "Reza choice --> Rock * Rock <-- Computer choice\n",
      "Tie!\n"
     ]
    }
   ],
   "source": [
    "game = RockPaperScissors('Reza')\n",
    "\n",
    "while True:\n",
    "    game.play()\n",
    "    \n",
    "    continue_game = input('Game Again? Play again *Any Key* - Quit *Q*')\n",
    "    if continue_game.upper() == 'Q':\n",
    "        break\n",
    "    "
   ]
  },
  {
   "cell_type": "code",
   "execution_count": null,
   "id": "f3b9a51b-c2ba-4b74-8738-3af173964a35",
   "metadata": {},
   "outputs": [],
   "source": []
  }
 ],
 "metadata": {
  "kernelspec": {
   "display_name": "Python 3 (ipykernel)",
   "language": "python",
   "name": "python3"
  },
  "language_info": {
   "codemirror_mode": {
    "name": "ipython",
    "version": 3
   },
   "file_extension": ".py",
   "mimetype": "text/x-python",
   "name": "python",
   "nbconvert_exporter": "python",
   "pygments_lexer": "ipython3",
   "version": "3.11.4"
  }
 },
 "nbformat": 4,
 "nbformat_minor": 5
}
